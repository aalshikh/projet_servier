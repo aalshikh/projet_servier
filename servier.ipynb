{
 "cells": [
  {
   "cell_type": "code",
   "execution_count": 66,
   "id": "3d896510-d8c3-471d-9378-64c1906aa9be",
   "metadata": {},
   "outputs": [],
   "source": [
    "import pandas as pd\n",
    "import numpy as np"
   ]
  },
  {
   "cell_type": "code",
   "execution_count": 67,
   "id": "c63d32a9-3557-4ab7-96d2-9bec68609aff",
   "metadata": {},
   "outputs": [],
   "source": [
    "pd.set_option(\"max_colwidth\", None)"
   ]
  },
  {
   "cell_type": "code",
   "execution_count": 68,
   "id": "c15b50dc-8995-4385-b7a1-ed1058073cad",
   "metadata": {},
   "outputs": [],
   "source": [
    "df_drugs = pd.read_csv(\"drugs.csv\", header=0, index_col=None, sep=',', encoding=\"utf-8\")\n",
    "df_clinical = pd.read_csv(\"clinical_trials.csv\", header=0, index_col=None, sep=',',  encoding=\"utf-8\")\n",
    "df_pubmed = pd.read_csv(\"pubmed.csv\", header=0, index_col=None, sep=',')"
   ]
  },
  {
   "cell_type": "code",
   "execution_count": 69,
   "id": "f31e4d60-b72c-40b4-9fd3-41745755f36b",
   "metadata": {},
   "outputs": [
    {
     "data": {
      "text/plain": [
       "atccode    object\n",
       "drug       object\n",
       "dtype: object"
      ]
     },
     "execution_count": 69,
     "metadata": {},
     "output_type": "execute_result"
    }
   ],
   "source": [
    "df_drugs.dtypes"
   ]
  },
  {
   "cell_type": "code",
   "execution_count": 70,
   "id": "80f6d6da-18bc-4de7-bd59-8228eaa7e133",
   "metadata": {},
   "outputs": [
    {
     "data": {
      "text/plain": [
       "id          int64\n",
       "title      object\n",
       "date       object\n",
       "journal    object\n",
       "dtype: object"
      ]
     },
     "execution_count": 70,
     "metadata": {},
     "output_type": "execute_result"
    }
   ],
   "source": [
    "df_pubmed.dtypes"
   ]
  },
  {
   "cell_type": "code",
   "execution_count": 71,
   "id": "23d15e6b-27d1-40c0-8cd6-79abe27655e5",
   "metadata": {},
   "outputs": [
    {
     "data": {
      "text/plain": [
       "id                  object\n",
       "scientific_title    object\n",
       "date                object\n",
       "journal             object\n",
       "dtype: object"
      ]
     },
     "execution_count": 71,
     "metadata": {},
     "output_type": "execute_result"
    }
   ],
   "source": [
    "df_clinical.dtypes"
   ]
  },
  {
   "cell_type": "code",
   "execution_count": 72,
   "id": "79f7b4b7-cc92-436f-a222-a1760fb1229e",
   "metadata": {},
   "outputs": [
    {
     "data": {
      "text/html": [
       "<div>\n",
       "<style scoped>\n",
       "    .dataframe tbody tr th:only-of-type {\n",
       "        vertical-align: middle;\n",
       "    }\n",
       "\n",
       "    .dataframe tbody tr th {\n",
       "        vertical-align: top;\n",
       "    }\n",
       "\n",
       "    .dataframe thead th {\n",
       "        text-align: right;\n",
       "    }\n",
       "</style>\n",
       "<table border=\"1\" class=\"dataframe\">\n",
       "  <thead>\n",
       "    <tr style=\"text-align: right;\">\n",
       "      <th></th>\n",
       "      <th>id</th>\n",
       "      <th>scientific_title</th>\n",
       "      <th>date</th>\n",
       "      <th>journal</th>\n",
       "    </tr>\n",
       "  </thead>\n",
       "  <tbody>\n",
       "    <tr>\n",
       "      <th>0</th>\n",
       "      <td>NCT01967433</td>\n",
       "      <td>Use of Diphenhydramine as an Adjunctive Sedative for Colonoscopy in Patients Chronically on Opioids</td>\n",
       "      <td>1 January 2020</td>\n",
       "      <td>Journal of emergency nursing</td>\n",
       "    </tr>\n",
       "    <tr>\n",
       "      <th>1</th>\n",
       "      <td>NCT04189588</td>\n",
       "      <td>Phase 2 Study IV QUZYTTIR™ (Cetirizine Hydrochloride Injection) vs V Diphenhydramine</td>\n",
       "      <td>1 January 2020</td>\n",
       "      <td>Journal of emergency nursing</td>\n",
       "    </tr>\n",
       "    <tr>\n",
       "      <th>2</th>\n",
       "      <td>NCT04237090</td>\n",
       "      <td></td>\n",
       "      <td>1 January 2020</td>\n",
       "      <td>Journal of emergency nursing</td>\n",
       "    </tr>\n",
       "    <tr>\n",
       "      <th>3</th>\n",
       "      <td>NCT04237091</td>\n",
       "      <td>Feasibility of a Randomized Controlled Clinical Trial Comparing the Use of Cetirizine to Replace Diphenhydramine in the Prevention of Reactions Related to Paclitaxel</td>\n",
       "      <td>1 January 2020</td>\n",
       "      <td>Journal of emergency nursing</td>\n",
       "    </tr>\n",
       "    <tr>\n",
       "      <th>4</th>\n",
       "      <td>NCT04153396</td>\n",
       "      <td>Preemptive Infiltration With Betamethasone and Ropivacaine for Postoperative Pain in Laminoplasty or \\xc3\\xb1 Laminectomy</td>\n",
       "      <td>1 January 2020</td>\n",
       "      <td>Hôpitaux Universitaires de Genève</td>\n",
       "    </tr>\n",
       "    <tr>\n",
       "      <th>5</th>\n",
       "      <td>NCT03490942</td>\n",
       "      <td>Glucagon Infusion in T1D Patients With Recurrent Severe Hypoglycemia: Effects on Counter-Regulatory Responses</td>\n",
       "      <td>25/05/2020</td>\n",
       "      <td>NaN</td>\n",
       "    </tr>\n",
       "    <tr>\n",
       "      <th>6</th>\n",
       "      <td>NaN</td>\n",
       "      <td>Glucagon Infusion in T1D Patients With Recurrent Severe Hypoglycemia: Effects on Counter-Regulatory Responses</td>\n",
       "      <td>25/05/2020</td>\n",
       "      <td>Journal of emergency nursing</td>\n",
       "    </tr>\n",
       "    <tr>\n",
       "      <th>7</th>\n",
       "      <td>NCT04188184</td>\n",
       "      <td>Tranexamic Acid Versus Epinephrine During Exploratory Tympanotomy</td>\n",
       "      <td>27 April 2020</td>\n",
       "      <td>Journal of emergency nursing\\xc3\\x28</td>\n",
       "    </tr>\n",
       "  </tbody>\n",
       "</table>\n",
       "</div>"
      ],
      "text/plain": [
       "            id  \\\n",
       "0  NCT01967433   \n",
       "1  NCT04189588   \n",
       "2  NCT04237090   \n",
       "3  NCT04237091   \n",
       "4  NCT04153396   \n",
       "5  NCT03490942   \n",
       "6          NaN   \n",
       "7  NCT04188184   \n",
       "\n",
       "                                                                                                                                                        scientific_title  \\\n",
       "0                                                                    Use of Diphenhydramine as an Adjunctive Sedative for Colonoscopy in Patients Chronically on Opioids   \n",
       "1                                                                                   Phase 2 Study IV QUZYTTIR™ (Cetirizine Hydrochloride Injection) vs V Diphenhydramine   \n",
       "2                                                                                                                                                                          \n",
       "3  Feasibility of a Randomized Controlled Clinical Trial Comparing the Use of Cetirizine to Replace Diphenhydramine in the Prevention of Reactions Related to Paclitaxel   \n",
       "4                                              Preemptive Infiltration With Betamethasone and Ropivacaine for Postoperative Pain in Laminoplasty or \\xc3\\xb1 Laminectomy   \n",
       "5                                                          Glucagon Infusion in T1D Patients With Recurrent Severe Hypoglycemia: Effects on Counter-Regulatory Responses   \n",
       "6                                                          Glucagon Infusion in T1D Patients With Recurrent Severe Hypoglycemia: Effects on Counter-Regulatory Responses   \n",
       "7                                                                                                      Tranexamic Acid Versus Epinephrine During Exploratory Tympanotomy   \n",
       "\n",
       "             date                               journal  \n",
       "0  1 January 2020          Journal of emergency nursing  \n",
       "1  1 January 2020          Journal of emergency nursing  \n",
       "2  1 January 2020          Journal of emergency nursing  \n",
       "3  1 January 2020          Journal of emergency nursing  \n",
       "4  1 January 2020     Hôpitaux Universitaires de Genève  \n",
       "5      25/05/2020                                   NaN  \n",
       "6      25/05/2020          Journal of emergency nursing  \n",
       "7   27 April 2020  Journal of emergency nursing\\xc3\\x28  "
      ]
     },
     "execution_count": 72,
     "metadata": {},
     "output_type": "execute_result"
    }
   ],
   "source": [
    "df_clinical.head(10)"
   ]
  },
  {
   "cell_type": "code",
   "execution_count": 73,
   "id": "6f1bec68-ffa1-4d17-ab66-c242dc2a5794",
   "metadata": {},
   "outputs": [
    {
     "data": {
      "text/html": [
       "<div>\n",
       "<style scoped>\n",
       "    .dataframe tbody tr th:only-of-type {\n",
       "        vertical-align: middle;\n",
       "    }\n",
       "\n",
       "    .dataframe tbody tr th {\n",
       "        vertical-align: top;\n",
       "    }\n",
       "\n",
       "    .dataframe thead th {\n",
       "        text-align: right;\n",
       "    }\n",
       "</style>\n",
       "<table border=\"1\" class=\"dataframe\">\n",
       "  <thead>\n",
       "    <tr style=\"text-align: right;\">\n",
       "      <th></th>\n",
       "      <th>atccode</th>\n",
       "      <th>drug</th>\n",
       "    </tr>\n",
       "  </thead>\n",
       "  <tbody>\n",
       "    <tr>\n",
       "      <th>0</th>\n",
       "      <td>A04AD</td>\n",
       "      <td>DIPHENHYDRAMINE</td>\n",
       "    </tr>\n",
       "    <tr>\n",
       "      <th>1</th>\n",
       "      <td>S03AA</td>\n",
       "      <td>TETRACYCLINE</td>\n",
       "    </tr>\n",
       "    <tr>\n",
       "      <th>2</th>\n",
       "      <td>V03AB</td>\n",
       "      <td>ETHANOL</td>\n",
       "    </tr>\n",
       "    <tr>\n",
       "      <th>3</th>\n",
       "      <td>A03BA</td>\n",
       "      <td>ATROPINE</td>\n",
       "    </tr>\n",
       "    <tr>\n",
       "      <th>4</th>\n",
       "      <td>A01AD</td>\n",
       "      <td>EPINEPHRINE</td>\n",
       "    </tr>\n",
       "    <tr>\n",
       "      <th>5</th>\n",
       "      <td>6302001</td>\n",
       "      <td>ISOPRENALINE</td>\n",
       "    </tr>\n",
       "    <tr>\n",
       "      <th>6</th>\n",
       "      <td>R01AD</td>\n",
       "      <td>BETAMETHASONE</td>\n",
       "    </tr>\n",
       "  </tbody>\n",
       "</table>\n",
       "</div>"
      ],
      "text/plain": [
       "   atccode             drug\n",
       "0    A04AD  DIPHENHYDRAMINE\n",
       "1    S03AA     TETRACYCLINE\n",
       "2    V03AB          ETHANOL\n",
       "3    A03BA         ATROPINE\n",
       "4    A01AD      EPINEPHRINE\n",
       "5  6302001     ISOPRENALINE\n",
       "6    R01AD    BETAMETHASONE"
      ]
     },
     "execution_count": 73,
     "metadata": {},
     "output_type": "execute_result"
    }
   ],
   "source": [
    "df_drugs.head(10)"
   ]
  },
  {
   "cell_type": "code",
   "execution_count": 74,
   "id": "f0ca76a0-0085-4cd1-991b-c8f384f74d90",
   "metadata": {},
   "outputs": [
    {
     "data": {
      "text/html": [
       "<div>\n",
       "<style scoped>\n",
       "    .dataframe tbody tr th:only-of-type {\n",
       "        vertical-align: middle;\n",
       "    }\n",
       "\n",
       "    .dataframe tbody tr th {\n",
       "        vertical-align: top;\n",
       "    }\n",
       "\n",
       "    .dataframe thead th {\n",
       "        text-align: right;\n",
       "    }\n",
       "</style>\n",
       "<table border=\"1\" class=\"dataframe\">\n",
       "  <thead>\n",
       "    <tr style=\"text-align: right;\">\n",
       "      <th></th>\n",
       "      <th>id</th>\n",
       "      <th>title</th>\n",
       "      <th>date</th>\n",
       "      <th>journal</th>\n",
       "    </tr>\n",
       "  </thead>\n",
       "  <tbody>\n",
       "    <tr>\n",
       "      <th>0</th>\n",
       "      <td>1</td>\n",
       "      <td>A 44-year-old man with erythema of the face diphenhydramine, neck, and chest, weakness, and palpitations</td>\n",
       "      <td>01/01/2019</td>\n",
       "      <td>Journal of emergency nursing</td>\n",
       "    </tr>\n",
       "    <tr>\n",
       "      <th>1</th>\n",
       "      <td>2</td>\n",
       "      <td>An evaluation of benadryl, pyribenzamine, and other so-called diphenhydramine antihistaminic drugs in the treatment of allergy.</td>\n",
       "      <td>01/01/2019</td>\n",
       "      <td>Journal of emergency nursing</td>\n",
       "    </tr>\n",
       "    <tr>\n",
       "      <th>2</th>\n",
       "      <td>3</td>\n",
       "      <td>Diphenhydramine hydrochloride helps symptoms of ciguatera fish poisoning.</td>\n",
       "      <td>02/01/2019</td>\n",
       "      <td>The Journal of pediatrics</td>\n",
       "    </tr>\n",
       "    <tr>\n",
       "      <th>3</th>\n",
       "      <td>4</td>\n",
       "      <td>Tetracycline Resistance Patterns of Lactobacillus buchneri Group Strains.</td>\n",
       "      <td>01/01/2020</td>\n",
       "      <td>Journal of food protection</td>\n",
       "    </tr>\n",
       "    <tr>\n",
       "      <th>4</th>\n",
       "      <td>5</td>\n",
       "      <td>Appositional Tetracycline bone formation rates in the Beagle.</td>\n",
       "      <td>02/01/2020</td>\n",
       "      <td>American journal of veterinary research</td>\n",
       "    </tr>\n",
       "    <tr>\n",
       "      <th>5</th>\n",
       "      <td>6</td>\n",
       "      <td>Rapid reacquisition of contextual fear following extinction in mice: effects of amount of extinction, tetracycline acute ethanol withdrawal, and ethanol intoxication.</td>\n",
       "      <td>2020-01-01</td>\n",
       "      <td>Psychopharmacology</td>\n",
       "    </tr>\n",
       "    <tr>\n",
       "      <th>6</th>\n",
       "      <td>7</td>\n",
       "      <td>The High Cost of Epinephrine Autoinjectors and Possible Alternatives.</td>\n",
       "      <td>01/02/2020</td>\n",
       "      <td>The journal of allergy and clinical immunology. In practice</td>\n",
       "    </tr>\n",
       "    <tr>\n",
       "      <th>7</th>\n",
       "      <td>8</td>\n",
       "      <td>Time to epinephrine treatment is associated with the risk of mortality in children who achieve sustained ROSC after traumatic out-of-hospital cardiac arrest.</td>\n",
       "      <td>01/03/2020</td>\n",
       "      <td>The journal of allergy and clinical immunology. In practice</td>\n",
       "    </tr>\n",
       "  </tbody>\n",
       "</table>\n",
       "</div>"
      ],
      "text/plain": [
       "   id  \\\n",
       "0   1   \n",
       "1   2   \n",
       "2   3   \n",
       "3   4   \n",
       "4   5   \n",
       "5   6   \n",
       "6   7   \n",
       "7   8   \n",
       "\n",
       "                                                                                                                                                                    title  \\\n",
       "0                                                                A 44-year-old man with erythema of the face diphenhydramine, neck, and chest, weakness, and palpitations   \n",
       "1                                         An evaluation of benadryl, pyribenzamine, and other so-called diphenhydramine antihistaminic drugs in the treatment of allergy.   \n",
       "2                                                                                               Diphenhydramine hydrochloride helps symptoms of ciguatera fish poisoning.   \n",
       "3                                                                                               Tetracycline Resistance Patterns of Lactobacillus buchneri Group Strains.   \n",
       "4                                                                                                           Appositional Tetracycline bone formation rates in the Beagle.   \n",
       "5  Rapid reacquisition of contextual fear following extinction in mice: effects of amount of extinction, tetracycline acute ethanol withdrawal, and ethanol intoxication.   \n",
       "6                                                                                                   The High Cost of Epinephrine Autoinjectors and Possible Alternatives.   \n",
       "7           Time to epinephrine treatment is associated with the risk of mortality in children who achieve sustained ROSC after traumatic out-of-hospital cardiac arrest.   \n",
       "\n",
       "         date                                                      journal  \n",
       "0  01/01/2019                                 Journal of emergency nursing  \n",
       "1  01/01/2019                                 Journal of emergency nursing  \n",
       "2  02/01/2019                                    The Journal of pediatrics  \n",
       "3  01/01/2020                                   Journal of food protection  \n",
       "4  02/01/2020                      American journal of veterinary research  \n",
       "5  2020-01-01                                           Psychopharmacology  \n",
       "6  01/02/2020  The journal of allergy and clinical immunology. In practice  \n",
       "7  01/03/2020  The journal of allergy and clinical immunology. In practice  "
      ]
     },
     "execution_count": 74,
     "metadata": {},
     "output_type": "execute_result"
    }
   ],
   "source": [
    "df_pubmed.head(10)"
   ]
  },
  {
   "cell_type": "code",
   "execution_count": 75,
   "id": "ff3be107-32eb-4825-9f1d-5e1932930e35",
   "metadata": {},
   "outputs": [],
   "source": [
    "df_clinical['date'] = pd.to_datetime(df_clinical['date'].str.strip('\"')).dt.strftime('%d/%m/%Y')"
   ]
  },
  {
   "cell_type": "code",
   "execution_count": 76,
   "id": "26f449d7-5f61-4541-8be3-b7e04729561c",
   "metadata": {},
   "outputs": [],
   "source": [
    "df_clinical.drop(2 , inplace=True)"
   ]
  },
  {
   "cell_type": "code",
   "execution_count": 77,
   "id": "3a62d667-61c9-43c8-8a77-7497c9b611e2",
   "metadata": {},
   "outputs": [],
   "source": [
    "df_clinical.reset_index(inplace=True, drop=True)"
   ]
  },
  {
   "cell_type": "code",
   "execution_count": 78,
   "id": "99775480-5165-4280-94dd-3b628369b9c9",
   "metadata": {},
   "outputs": [],
   "source": [
    "df_clinical = df_clinical[df_clinical['id'].notna()]"
   ]
  },
  {
   "cell_type": "code",
   "execution_count": 79,
   "id": "9669421a-2ea0-4760-b881-ef402bf5498c",
   "metadata": {},
   "outputs": [],
   "source": [
    "df_clinical.iloc[4, df_clinical.columns.get_loc('journal')] = 'Journal of emergency nursing'"
   ]
  },
  {
   "cell_type": "code",
   "execution_count": 80,
   "id": "08e7da0b-d223-4db6-a379-8ed7644bb2e3",
   "metadata": {},
   "outputs": [],
   "source": [
    "df_clinical.iloc[5, df_clinical.columns.get_loc('journal')] = 'Journal of emergency nursing'"
   ]
  },
  {
   "cell_type": "code",
   "execution_count": 81,
   "id": "a2b26619-f0ef-4804-b27d-c0fd700a7dc3",
   "metadata": {},
   "outputs": [],
   "source": [
    "df_clinical.reset_index(inplace=True, drop=True)"
   ]
  },
  {
   "cell_type": "code",
   "execution_count": 82,
   "id": "000749cc-562e-4430-8c9f-2e9bf905fe4d",
   "metadata": {},
   "outputs": [
    {
     "data": {
      "text/html": [
       "<div>\n",
       "<style scoped>\n",
       "    .dataframe tbody tr th:only-of-type {\n",
       "        vertical-align: middle;\n",
       "    }\n",
       "\n",
       "    .dataframe tbody tr th {\n",
       "        vertical-align: top;\n",
       "    }\n",
       "\n",
       "    .dataframe thead th {\n",
       "        text-align: right;\n",
       "    }\n",
       "</style>\n",
       "<table border=\"1\" class=\"dataframe\">\n",
       "  <thead>\n",
       "    <tr style=\"text-align: right;\">\n",
       "      <th></th>\n",
       "      <th>id</th>\n",
       "      <th>scientific_title</th>\n",
       "      <th>date</th>\n",
       "      <th>journal</th>\n",
       "    </tr>\n",
       "  </thead>\n",
       "  <tbody>\n",
       "    <tr>\n",
       "      <th>0</th>\n",
       "      <td>NCT01967433</td>\n",
       "      <td>Use of Diphenhydramine as an Adjunctive Sedative for Colonoscopy in Patients Chronically on Opioids</td>\n",
       "      <td>01/01/2020</td>\n",
       "      <td>Journal of emergency nursing</td>\n",
       "    </tr>\n",
       "    <tr>\n",
       "      <th>1</th>\n",
       "      <td>NCT04189588</td>\n",
       "      <td>Phase 2 Study IV QUZYTTIR™ (Cetirizine Hydrochloride Injection) vs V Diphenhydramine</td>\n",
       "      <td>01/01/2020</td>\n",
       "      <td>Journal of emergency nursing</td>\n",
       "    </tr>\n",
       "    <tr>\n",
       "      <th>2</th>\n",
       "      <td>NCT04237091</td>\n",
       "      <td>Feasibility of a Randomized Controlled Clinical Trial Comparing the Use of Cetirizine to Replace Diphenhydramine in the Prevention of Reactions Related to Paclitaxel</td>\n",
       "      <td>01/01/2020</td>\n",
       "      <td>Journal of emergency nursing</td>\n",
       "    </tr>\n",
       "    <tr>\n",
       "      <th>3</th>\n",
       "      <td>NCT04153396</td>\n",
       "      <td>Preemptive Infiltration With Betamethasone and Ropivacaine for Postoperative Pain in Laminoplasty or \\xc3\\xb1 Laminectomy</td>\n",
       "      <td>01/01/2020</td>\n",
       "      <td>Hôpitaux Universitaires de Genève</td>\n",
       "    </tr>\n",
       "    <tr>\n",
       "      <th>4</th>\n",
       "      <td>NCT03490942</td>\n",
       "      <td>Glucagon Infusion in T1D Patients With Recurrent Severe Hypoglycemia: Effects on Counter-Regulatory Responses</td>\n",
       "      <td>25/05/2020</td>\n",
       "      <td>Journal of emergency nursing</td>\n",
       "    </tr>\n",
       "    <tr>\n",
       "      <th>5</th>\n",
       "      <td>NCT04188184</td>\n",
       "      <td>Tranexamic Acid Versus Epinephrine During Exploratory Tympanotomy</td>\n",
       "      <td>27/04/2020</td>\n",
       "      <td>Journal of emergency nursing</td>\n",
       "    </tr>\n",
       "  </tbody>\n",
       "</table>\n",
       "</div>"
      ],
      "text/plain": [
       "            id  \\\n",
       "0  NCT01967433   \n",
       "1  NCT04189588   \n",
       "2  NCT04237091   \n",
       "3  NCT04153396   \n",
       "4  NCT03490942   \n",
       "5  NCT04188184   \n",
       "\n",
       "                                                                                                                                                        scientific_title  \\\n",
       "0                                                                    Use of Diphenhydramine as an Adjunctive Sedative for Colonoscopy in Patients Chronically on Opioids   \n",
       "1                                                                                   Phase 2 Study IV QUZYTTIR™ (Cetirizine Hydrochloride Injection) vs V Diphenhydramine   \n",
       "2  Feasibility of a Randomized Controlled Clinical Trial Comparing the Use of Cetirizine to Replace Diphenhydramine in the Prevention of Reactions Related to Paclitaxel   \n",
       "3                                              Preemptive Infiltration With Betamethasone and Ropivacaine for Postoperative Pain in Laminoplasty or \\xc3\\xb1 Laminectomy   \n",
       "4                                                          Glucagon Infusion in T1D Patients With Recurrent Severe Hypoglycemia: Effects on Counter-Regulatory Responses   \n",
       "5                                                                                                      Tranexamic Acid Versus Epinephrine During Exploratory Tympanotomy   \n",
       "\n",
       "         date                            journal  \n",
       "0  01/01/2020       Journal of emergency nursing  \n",
       "1  01/01/2020       Journal of emergency nursing  \n",
       "2  01/01/2020       Journal of emergency nursing  \n",
       "3  01/01/2020  Hôpitaux Universitaires de Genève  \n",
       "4  25/05/2020       Journal of emergency nursing  \n",
       "5  27/04/2020       Journal of emergency nursing  "
      ]
     },
     "execution_count": 82,
     "metadata": {},
     "output_type": "execute_result"
    }
   ],
   "source": [
    "df_clinical.head(10)"
   ]
  },
  {
   "cell_type": "code",
   "execution_count": 83,
   "id": "6e5532c9-1544-4ae9-8b0e-795104e30d61",
   "metadata": {},
   "outputs": [],
   "source": [
    "df_drugs.drop(5 , inplace=True)"
   ]
  },
  {
   "cell_type": "code",
   "execution_count": 84,
   "id": "f652e2eb-59e2-4a5f-bd75-ad0a50395a63",
   "metadata": {},
   "outputs": [],
   "source": [
    "df_drugs.reset_index(inplace=True, drop=True)"
   ]
  },
  {
   "cell_type": "code",
   "execution_count": 85,
   "id": "8ddfef6f-75d1-4325-918d-8884810bce9e",
   "metadata": {},
   "outputs": [
    {
     "data": {
      "text/html": [
       "<div>\n",
       "<style scoped>\n",
       "    .dataframe tbody tr th:only-of-type {\n",
       "        vertical-align: middle;\n",
       "    }\n",
       "\n",
       "    .dataframe tbody tr th {\n",
       "        vertical-align: top;\n",
       "    }\n",
       "\n",
       "    .dataframe thead th {\n",
       "        text-align: right;\n",
       "    }\n",
       "</style>\n",
       "<table border=\"1\" class=\"dataframe\">\n",
       "  <thead>\n",
       "    <tr style=\"text-align: right;\">\n",
       "      <th></th>\n",
       "      <th>atccode</th>\n",
       "      <th>drug</th>\n",
       "    </tr>\n",
       "  </thead>\n",
       "  <tbody>\n",
       "    <tr>\n",
       "      <th>0</th>\n",
       "      <td>A04AD</td>\n",
       "      <td>DIPHENHYDRAMINE</td>\n",
       "    </tr>\n",
       "    <tr>\n",
       "      <th>1</th>\n",
       "      <td>S03AA</td>\n",
       "      <td>TETRACYCLINE</td>\n",
       "    </tr>\n",
       "    <tr>\n",
       "      <th>2</th>\n",
       "      <td>V03AB</td>\n",
       "      <td>ETHANOL</td>\n",
       "    </tr>\n",
       "    <tr>\n",
       "      <th>3</th>\n",
       "      <td>A03BA</td>\n",
       "      <td>ATROPINE</td>\n",
       "    </tr>\n",
       "    <tr>\n",
       "      <th>4</th>\n",
       "      <td>A01AD</td>\n",
       "      <td>EPINEPHRINE</td>\n",
       "    </tr>\n",
       "    <tr>\n",
       "      <th>5</th>\n",
       "      <td>R01AD</td>\n",
       "      <td>BETAMETHASONE</td>\n",
       "    </tr>\n",
       "  </tbody>\n",
       "</table>\n",
       "</div>"
      ],
      "text/plain": [
       "  atccode             drug\n",
       "0   A04AD  DIPHENHYDRAMINE\n",
       "1   S03AA     TETRACYCLINE\n",
       "2   V03AB          ETHANOL\n",
       "3   A03BA         ATROPINE\n",
       "4   A01AD      EPINEPHRINE\n",
       "5   R01AD    BETAMETHASONE"
      ]
     },
     "execution_count": 85,
     "metadata": {},
     "output_type": "execute_result"
    }
   ],
   "source": [
    "df_drugs.head(10)"
   ]
  },
  {
   "cell_type": "code",
   "execution_count": 86,
   "id": "63410ca8-94d0-494a-987b-da73ff4bce79",
   "metadata": {},
   "outputs": [],
   "source": [
    "df_pubmed['date'] = pd.to_datetime(df_pubmed['date'].str.strip('\"')).dt.strftime('%d/%m/%Y')"
   ]
  },
  {
   "cell_type": "code",
   "execution_count": 87,
   "id": "9363dc85-cf1e-448c-a748-48b528829b62",
   "metadata": {},
   "outputs": [
    {
     "data": {
      "text/html": [
       "<div>\n",
       "<style scoped>\n",
       "    .dataframe tbody tr th:only-of-type {\n",
       "        vertical-align: middle;\n",
       "    }\n",
       "\n",
       "    .dataframe tbody tr th {\n",
       "        vertical-align: top;\n",
       "    }\n",
       "\n",
       "    .dataframe thead th {\n",
       "        text-align: right;\n",
       "    }\n",
       "</style>\n",
       "<table border=\"1\" class=\"dataframe\">\n",
       "  <thead>\n",
       "    <tr style=\"text-align: right;\">\n",
       "      <th></th>\n",
       "      <th>id</th>\n",
       "      <th>title</th>\n",
       "      <th>date</th>\n",
       "      <th>journal</th>\n",
       "    </tr>\n",
       "  </thead>\n",
       "  <tbody>\n",
       "    <tr>\n",
       "      <th>0</th>\n",
       "      <td>1</td>\n",
       "      <td>A 44-year-old man with erythema of the face diphenhydramine, neck, and chest, weakness, and palpitations</td>\n",
       "      <td>01/01/2019</td>\n",
       "      <td>Journal of emergency nursing</td>\n",
       "    </tr>\n",
       "    <tr>\n",
       "      <th>1</th>\n",
       "      <td>2</td>\n",
       "      <td>An evaluation of benadryl, pyribenzamine, and other so-called diphenhydramine antihistaminic drugs in the treatment of allergy.</td>\n",
       "      <td>01/01/2019</td>\n",
       "      <td>Journal of emergency nursing</td>\n",
       "    </tr>\n",
       "    <tr>\n",
       "      <th>2</th>\n",
       "      <td>3</td>\n",
       "      <td>Diphenhydramine hydrochloride helps symptoms of ciguatera fish poisoning.</td>\n",
       "      <td>01/02/2019</td>\n",
       "      <td>The Journal of pediatrics</td>\n",
       "    </tr>\n",
       "    <tr>\n",
       "      <th>3</th>\n",
       "      <td>4</td>\n",
       "      <td>Tetracycline Resistance Patterns of Lactobacillus buchneri Group Strains.</td>\n",
       "      <td>01/01/2020</td>\n",
       "      <td>Journal of food protection</td>\n",
       "    </tr>\n",
       "    <tr>\n",
       "      <th>4</th>\n",
       "      <td>5</td>\n",
       "      <td>Appositional Tetracycline bone formation rates in the Beagle.</td>\n",
       "      <td>01/02/2020</td>\n",
       "      <td>American journal of veterinary research</td>\n",
       "    </tr>\n",
       "    <tr>\n",
       "      <th>5</th>\n",
       "      <td>6</td>\n",
       "      <td>Rapid reacquisition of contextual fear following extinction in mice: effects of amount of extinction, tetracycline acute ethanol withdrawal, and ethanol intoxication.</td>\n",
       "      <td>01/01/2020</td>\n",
       "      <td>Psychopharmacology</td>\n",
       "    </tr>\n",
       "    <tr>\n",
       "      <th>6</th>\n",
       "      <td>7</td>\n",
       "      <td>The High Cost of Epinephrine Autoinjectors and Possible Alternatives.</td>\n",
       "      <td>02/01/2020</td>\n",
       "      <td>The journal of allergy and clinical immunology. In practice</td>\n",
       "    </tr>\n",
       "    <tr>\n",
       "      <th>7</th>\n",
       "      <td>8</td>\n",
       "      <td>Time to epinephrine treatment is associated with the risk of mortality in children who achieve sustained ROSC after traumatic out-of-hospital cardiac arrest.</td>\n",
       "      <td>03/01/2020</td>\n",
       "      <td>The journal of allergy and clinical immunology. In practice</td>\n",
       "    </tr>\n",
       "  </tbody>\n",
       "</table>\n",
       "</div>"
      ],
      "text/plain": [
       "   id  \\\n",
       "0   1   \n",
       "1   2   \n",
       "2   3   \n",
       "3   4   \n",
       "4   5   \n",
       "5   6   \n",
       "6   7   \n",
       "7   8   \n",
       "\n",
       "                                                                                                                                                                    title  \\\n",
       "0                                                                A 44-year-old man with erythema of the face diphenhydramine, neck, and chest, weakness, and palpitations   \n",
       "1                                         An evaluation of benadryl, pyribenzamine, and other so-called diphenhydramine antihistaminic drugs in the treatment of allergy.   \n",
       "2                                                                                               Diphenhydramine hydrochloride helps symptoms of ciguatera fish poisoning.   \n",
       "3                                                                                               Tetracycline Resistance Patterns of Lactobacillus buchneri Group Strains.   \n",
       "4                                                                                                           Appositional Tetracycline bone formation rates in the Beagle.   \n",
       "5  Rapid reacquisition of contextual fear following extinction in mice: effects of amount of extinction, tetracycline acute ethanol withdrawal, and ethanol intoxication.   \n",
       "6                                                                                                   The High Cost of Epinephrine Autoinjectors and Possible Alternatives.   \n",
       "7           Time to epinephrine treatment is associated with the risk of mortality in children who achieve sustained ROSC after traumatic out-of-hospital cardiac arrest.   \n",
       "\n",
       "         date                                                      journal  \n",
       "0  01/01/2019                                 Journal of emergency nursing  \n",
       "1  01/01/2019                                 Journal of emergency nursing  \n",
       "2  01/02/2019                                    The Journal of pediatrics  \n",
       "3  01/01/2020                                   Journal of food protection  \n",
       "4  01/02/2020                      American journal of veterinary research  \n",
       "5  01/01/2020                                           Psychopharmacology  \n",
       "6  02/01/2020  The journal of allergy and clinical immunology. In practice  \n",
       "7  03/01/2020  The journal of allergy and clinical immunology. In practice  "
      ]
     },
     "execution_count": 87,
     "metadata": {},
     "output_type": "execute_result"
    }
   ],
   "source": [
    "df_pubmed.head(10)"
   ]
  },
  {
   "cell_type": "code",
   "execution_count": 44,
   "id": "b4ae16b7-6168-47b0-bd10-73a4bc39014a",
   "metadata": {},
   "outputs": [],
   "source": [
    "lst_drugs = df_drugs['drug'].tolist()"
   ]
  },
  {
   "cell_type": "code",
   "execution_count": 45,
   "id": "728df3bb-ed7d-4b9c-98dc-106c626c681e",
   "metadata": {},
   "outputs": [
    {
     "data": {
      "text/plain": [
       "['DIPHENHYDRAMINE',\n",
       " 'TETRACYCLINE',\n",
       " 'ETHANOL',\n",
       " 'ATROPINE',\n",
       " 'EPINEPHRINE',\n",
       " 'ISOPRENALINE',\n",
       " 'BETAMETHASONE']"
      ]
     },
     "execution_count": 45,
     "metadata": {},
     "output_type": "execute_result"
    }
   ],
   "source": [
    "lst_drugs"
   ]
  },
  {
   "cell_type": "code",
   "execution_count": null,
   "id": "cdd61314-d4c0-48d9-bcb5-281a798777e6",
   "metadata": {},
   "outputs": [],
   "source": []
  }
 ],
 "metadata": {
  "kernelspec": {
   "display_name": "Python 3",
   "language": "python",
   "name": "python3"
  },
  "language_info": {
   "codemirror_mode": {
    "name": "ipython",
    "version": 3
   },
   "file_extension": ".py",
   "mimetype": "text/x-python",
   "name": "python",
   "nbconvert_exporter": "python",
   "pygments_lexer": "ipython3",
   "version": "3.8.8"
  }
 },
 "nbformat": 4,
 "nbformat_minor": 5
}
